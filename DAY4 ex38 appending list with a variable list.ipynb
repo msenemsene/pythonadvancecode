{
 "cells": [
  {
   "cell_type": "code",
   "execution_count": 1,
   "metadata": {},
   "outputs": [
    {
     "name": "stdout",
     "output_type": "stream",
     "text": [
      "Wait there's not 10 things in that list, let's fix that.\n",
      "Adding:  Boy\n",
      "There's 7 items now.\n",
      "Adding:  Girl\n",
      "There's 8 items now.\n",
      "Adding:  Banana\n",
      "There's 9 items now.\n",
      "Adding:  Corn\n",
      "There's 10 items now.\n",
      "There we go:  ['Apples', 'Oranges', 'Crows', 'Telephone', 'Light', 'Sugar', 'Boy', 'Girl', 'Banana', 'Corn']\n",
      "Let's do some things with stuff.\n",
      "Oranges\n",
      "Corn\n",
      "Corn\n",
      "Apples Oranges Crows Telephone Light Sugar Boy Girl Banana\n",
      "Telephone#Light\n"
     ]
    }
   ],
   "source": [
    "ten_things = \"Apples Oranges Crows Telephone Light Sugar\"\n",
    "\n",
    "print(\"Wait there's not 10 things in that list, let's fix that.\")\n",
    "\n",
    "stuff = ten_things.split(' ')\n",
    "more_stuff = [\"Day\", \"Night\", \"Song\", \"Frisbee\",\n",
    "              \"Corn\", \"Banana\", \"Girl\", \"Boy\"]\n",
    "\n",
    "while len(stuff) != 10:\n",
    "    next_one = more_stuff.pop()\n",
    "    print(\"Adding: \", next_one)\n",
    "    stuff.append(next_one)\n",
    "    print(f\"There's {len(stuff)} items now.\")\n",
    "\n",
    "print(\"There we go: \", stuff)\n",
    "\n",
    "print(\"Let's do some things with stuff.\")\n",
    "\n",
    "print(stuff[1])\n",
    "print(stuff[-1])  # whoa! fancy\n",
    "print(stuff.pop())\n",
    "print(' '.join(stuff))  # what= cool!\n",
    "print('#'.join(stuff[3:5])) # super stellar!"
   ]
  },
  {
   "cell_type": "code",
   "execution_count": 17,
   "metadata": {},
   "outputs": [
    {
     "name": "stdout",
     "output_type": "stream",
     "text": [
      "['Apples', 'Oranges', 'Crows', 'Telephone', 'Light', 'Sugar']\n"
     ]
    }
   ],
   "source": [
    "print (ten_things.split(\" \") ) \n"
   ]
  },
  {
   "cell_type": "code",
   "execution_count": 18,
   "metadata": {},
   "outputs": [
    {
     "data": {
      "text/plain": [
       "str"
      ]
     },
     "execution_count": 18,
     "metadata": {},
     "output_type": "execute_result"
    }
   ],
   "source": [
    "type (ten_things)\n"
   ]
  },
  {
   "cell_type": "code",
   "execution_count": 14,
   "metadata": {},
   "outputs": [
    {
     "data": {
      "text/plain": [
       "'Apples Oranges Crows Telephone Light Sugar'"
      ]
     },
     "execution_count": 14,
     "metadata": {},
     "output_type": "execute_result"
    }
   ],
   "source": [
    "ten_things"
   ]
  },
  {
   "cell_type": "code",
   "execution_count": 19,
   "metadata": {},
   "outputs": [
    {
     "name": "stdout",
     "output_type": "stream",
     "text": [
      "Wait there's not 10 things in that list, let's fix that.\n"
     ]
    }
   ],
   "source": [
    "ten_things = \"Apples Oranges Crows Telephone Light Sugar\"\n",
    "\n",
    "print(\"Wait there's not 10 things in that list, let's fix that.\")\n",
    "\n",
    "stuff = ten_things.split(' ')\n",
    "more_stuff = [\"Day\", \"Night\", \"Song\", \"Frisbee\",\n",
    "              \"Corn\", \"Banana\", \"Girl\", \"Boy\"]"
   ]
  },
  {
   "cell_type": "code",
   "execution_count": 22,
   "metadata": {},
   "outputs": [
    {
     "name": "stdout",
     "output_type": "stream",
     "text": [
      "Apples Oranges Crows Telephone Light Sugar\n",
      "['Day', 'Night', 'Song', 'Frisbee']\n"
     ]
    }
   ],
   "source": [
    "print (ten_things)\n",
    "print (more_stuff)"
   ]
  },
  {
   "cell_type": "code",
   "execution_count": 21,
   "metadata": {},
   "outputs": [
    {
     "name": "stdout",
     "output_type": "stream",
     "text": [
      "Adding:  Boy\n",
      "There's 7 items now.\n",
      "Adding:  Girl\n",
      "There's 8 items now.\n",
      "Adding:  Banana\n",
      "There's 9 items now.\n",
      "Adding:  Corn\n",
      "There's 10 items now.\n"
     ]
    }
   ],
   "source": [
    "while len(stuff) != 10:\n",
    "    next_one = more_stuff.pop()\n",
    "    print(\"Adding: \", next_one)\n",
    "    stuff.append(next_one)\n",
    "    print(f\"There's {len(stuff)} items now.\")"
   ]
  },
  {
   "cell_type": "code",
   "execution_count": 23,
   "metadata": {},
   "outputs": [
    {
     "name": "stdout",
     "output_type": "stream",
     "text": [
      "['Apples', 'Oranges', 'Crows', 'Telephone', 'Light', 'Sugar', 'Boy', 'Girl', 'Banana', 'Corn']\n"
     ]
    }
   ],
   "source": [
    "print (stuff)"
   ]
  },
  {
   "cell_type": "code",
   "execution_count": 25,
   "metadata": {},
   "outputs": [
    {
     "data": {
      "text/plain": [
       "list"
      ]
     },
     "execution_count": 25,
     "metadata": {},
     "output_type": "execute_result"
    }
   ],
   "source": [
    "type (stuff)"
   ]
  },
  {
   "cell_type": "code",
   "execution_count": null,
   "metadata": {},
   "outputs": [],
   "source": []
  },
  {
   "cell_type": "code",
   "execution_count": null,
   "metadata": {},
   "outputs": [],
   "source": [
    "def convert (string)\n",
    "    li = list(string.split (\" , \"))"
   ]
  }
 ],
 "metadata": {
  "kernelspec": {
   "display_name": "Python 3",
   "language": "python",
   "name": "python3"
  },
  "language_info": {
   "codemirror_mode": {
    "name": "ipython",
    "version": 3
   },
   "file_extension": ".py",
   "mimetype": "text/x-python",
   "name": "python",
   "nbconvert_exporter": "python",
   "pygments_lexer": "ipython3",
   "version": "3.6.5"
  }
 },
 "nbformat": 4,
 "nbformat_minor": 2
}
