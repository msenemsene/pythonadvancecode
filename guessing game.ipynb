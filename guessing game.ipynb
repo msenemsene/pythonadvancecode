{
 "cells": [
  {
   "cell_type": "code",
   "execution_count": 12,
   "metadata": {},
   "outputs": [
    {
     "name": "stdout",
     "output_type": "stream",
     "text": [
      "I am thinking of a number between 1 and 20.\n",
      "take a guess.\n",
      "1\n",
      "Your guess is too low.\n",
      "take a guess.\n",
      "2\n",
      "Good job! You guessd my number in 1 guesses!\n"
     ]
    }
   ],
   "source": [
    "# This is a guess the number game.\n",
    "import random\n",
    "secret_number = random.randint(1, 3)\n",
    "print ('I am thinking of a number between 1 and 20.')\n",
    "\n",
    "# Ask the player to guess 6 times.\n",
    "for guesses_taken in range(0, 4):\n",
    "    print ('take a guess.')\n",
    "    guess = int(input())\n",
    "\n",
    "    if guess < secret_number:\n",
    "        print ('Your guess is too low.')\n",
    "    elif guess > secret_number:\n",
    "        print ('Your guess is too high.')\n",
    "    else:\n",
    "        break  # This condition is the correct guess!\n",
    "\n",
    "if guess == secret_number:\n",
    "    print ('Good job! You guessed my number in ' + str(guesses_taken) + ' guesses!')\n",
    "else:\n",
    "    print ('Nope. The number I was thinking of was ' + str(secret_number))"
   ]
  },
  {
   "cell_type": "code",
   "execution_count": 30,
   "metadata": {},
   "outputs": [
    {
     "ename": "AttributeError",
     "evalue": "'list' object has no attribute 'randrange'",
     "output_type": "error",
     "traceback": [
      "\u001b[0;31m---------------------------------------------------------------------------\u001b[0m",
      "\u001b[0;31mAttributeError\u001b[0m                            Traceback (most recent call last)",
      "\u001b[0;32m<ipython-input-30-8cc22e82bd2c>\u001b[0m in \u001b[0;36m<module>\u001b[0;34m()\u001b[0m\n\u001b[1;32m      1\u001b[0m \u001b[0;32mimport\u001b[0m \u001b[0mrandom\u001b[0m\u001b[0;34m\u001b[0m\u001b[0m\n\u001b[1;32m      2\u001b[0m \u001b[0mrandom\u001b[0m\u001b[0;34m=\u001b[0m\u001b[0;34m[\u001b[0m\u001b[0;34m]\u001b[0m\u001b[0;34m\u001b[0m\u001b[0m\n\u001b[0;32m----> 3\u001b[0;31m \u001b[0mrandom\u001b[0m\u001b[0;34m.\u001b[0m\u001b[0mappend\u001b[0m\u001b[0;34m(\u001b[0m\u001b[0mrandom\u001b[0m\u001b[0;34m.\u001b[0m\u001b[0mrandrange\u001b[0m\u001b[0;34m(\u001b[0m\u001b[0;36m0\u001b[0m\u001b[0;34m,\u001b[0m \u001b[0;36m101\u001b[0m\u001b[0;34m,\u001b[0m \u001b[0;36m1\u001b[0m\u001b[0;34m)\u001b[0m\u001b[0;34m)\u001b[0m\u001b[0;34m\u001b[0m\u001b[0m\n\u001b[0m\u001b[1;32m      4\u001b[0m \u001b[0mprint\u001b[0m \u001b[0;34m(\u001b[0m\u001b[0;34m'choose 5 numbers.'\u001b[0m\u001b[0;34m)\u001b[0m\u001b[0;34m\u001b[0m\u001b[0m\n",
      "\u001b[0;31mAttributeError\u001b[0m: 'list' object has no attribute 'randrange'"
     ]
    }
   ],
   "source": [
    "import random\n",
    "randoms=[]\n",
    "random.append(random.randrange(0, 101, 1))\n",
    "print ('choose 5 numbers.')\n"
   ]
  },
  {
   "cell_type": "code",
   "execution_count": null,
   "metadata": {},
   "outputs": [],
   "source": [
    "# This is a guess the number game.\n",
    "import random\n",
    "random=[]\n",
    "random.append(random.randrange(0, 101, 1))\n",
    "print ('choose 5 numbers.')\n",
    "\n",
    "# Ask the player to guess 6 times.\n",
    "for i in range (5):\n",
    "    print ('.')\n",
    "    guess = int(input())\n",
    "\n",
    "    if guess < secret_number:\n",
    "        print ('Your guess is too low.')\n",
    "    elif guess > secret_number:\n",
    "        print ('Your guess is too high.')\n",
    "    else:\n",
    "        break  # This condition is the correct guess!\n",
    "\n",
    "if guess == secret_number:\n",
    "    print ('Good job! You guessed my number in ' + str(guesses_taken) + ' guesses!')\n",
    "else:\n",
    "    print ('Nope. The number I was thinking of was ' + str(secret_number"
   ]
  },
  {
   "cell_type": "code",
   "execution_count": 39,
   "metadata": {},
   "outputs": [
    {
     "name": "stdout",
     "output_type": "stream",
     "text": [
      "pick 5 numbers\n",
      "02\n"
     ]
    },
    {
     "data": {
      "text/plain": [
       "'2'"
      ]
     },
     "execution_count": 39,
     "metadata": {},
     "output_type": "execute_result"
    }
   ],
   "source": [
    "# This is a guess the number game.\n",
    "import random\n",
    "randoms =[]\n",
    "for i in range (5):\n",
    "    randoms.append(random.randrange(1, 101, 1))\n",
    "print (\"pick 5 numbers\")\n",
    "\n",
    "input(int())\n"
   ]
  },
  {
   "cell_type": "markdown",
   "metadata": {},
   "source": [
    "randoms"
   ]
  },
  {
   "cell_type": "raw",
   "metadata": {},
   "source": [
    " print randoms"
   ]
  },
  {
   "cell_type": "code",
   "execution_count": 31,
   "metadata": {},
   "outputs": [
    {
     "name": "stdout",
     "output_type": "stream",
     "text": [
      "[34]\n",
      "[34, 68]\n",
      "[34, 68, 63]\n",
      "[34, 68, 63, 88]\n",
      "[34, 68, 63, 88, 7]\n"
     ]
    }
   ],
   "source": [
    "import random\n",
    "my_randoms=[]\n",
    "for i in range (5):\n",
    "    my_randoms.append(random.randrange(1, 101))\n",
    "    print (my_randoms)"
   ]
  },
  {
   "cell_type": "code",
   "execution_count": 64,
   "metadata": {},
   "outputs": [
    {
     "name": "stdout",
     "output_type": "stream",
     "text": [
      "pick 5 numbers\n"
     ]
    }
   ],
   "source": [
    "# This is a guess the number game.\n",
    "import random\n",
    "randoms =[]\n",
    "for i in range (5):\n",
    "    randoms.append(random.randrange(1, 101, 1))\n",
    "print (\"pick 5 numbers\")\n",
    "\n",
    "\n"
   ]
  },
  {
   "cell_type": "code",
   "execution_count": null,
   "metadata": {},
   "outputs": [],
   "source": [
    "lot_guess = [int(x) for x in input().split()]\n",
    "# result = all(elem in randoms for elem in lot_guess)\n",
    "\n",
    "if lot_guess==randoms:\n",
    "    print (\"you won a million dollar\")\n",
    "elif lot_guess!=randoms:\n",
    "    print (\"sorry try again\")\n",
    "else:\n",
    "    print (\"please enter 5 numbers\")\n",
    "    \n"
   ]
  },
  {
   "cell_type": "code",
   "execution_count": 66,
   "metadata": {},
   "outputs": [
    {
     "data": {
      "text/plain": [
       "[65, 72, 18, 100, 10]"
      ]
     },
     "execution_count": 66,
     "metadata": {},
     "output_type": "execute_result"
    }
   ],
   "source": [
    "\n",
    "randoms"
   ]
  },
  {
   "cell_type": "code",
   "execution_count": null,
   "metadata": {},
   "outputs": [],
   "source": [
    "class lotery:\n",
    "    def"
   ]
  }
 ],
 "metadata": {
  "kernelspec": {
   "display_name": "Python 3",
   "language": "python",
   "name": "python3"
  },
  "language_info": {
   "codemirror_mode": {
    "name": "ipython",
    "version": 3
   },
   "file_extension": ".py",
   "mimetype": "text/x-python",
   "name": "python",
   "nbconvert_exporter": "python",
   "pygments_lexer": "ipython3",
   "version": "3.6.5"
  }
 },
 "nbformat": 4,
 "nbformat_minor": 2
}
