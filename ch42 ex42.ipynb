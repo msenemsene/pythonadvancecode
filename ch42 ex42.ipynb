{
 "cells": [
  {
   "cell_type": "code",
   "execution_count": 4,
   "metadata": {},
   "outputs": [],
   "source": [
    "## Animal is-a object (yes, sort of confusing) look at the extra credit\n",
    "class Animal(object):\n",
    "    pass\n",
    "\n",
    "\n",
    "## Dog is-a Animal\n",
    "class Dog(Animal):\n",
    "    def __init__(self, name):\n",
    "        ## Dog has-a name\n",
    "        self.name = name\n",
    "\n",
    "\n",
    "## Cat is-a Animal\n",
    "class Cat(Animal):\n",
    "    def __init__(self, name):\n",
    "        ## Cat has a name\n",
    "        self.name = name\n",
    "\n",
    "\n",
    "## Person is-a object\n",
    "class Person(object):\n",
    "    def __init__(self, name):\n",
    "        ## Person has-a name\n",
    "        self.name = name\n",
    "\n",
    "        ## Person has-a pet of some kind\n",
    "        self.pet = None\n",
    "\n",
    "\n",
    "## Employee is-a Person\n",
    "class Employee(Person):\n",
    "    def __init__(self, name, salary):\n",
    "        ## Employee has-a name\n",
    "        super(Employee, self).__init__(name)\n",
    "        ## Employee has-a salary\n",
    "        self.salary = salary\n",
    "\n",
    "\n",
    "## Fish is-a object\n",
    "class Fish(object):\n",
    "    pass\n",
    "\n",
    "\n",
    "## Salmon is-a Fish\n",
    "class Salmon(Fish):\n",
    "    pass\n",
    "\n",
    "\n",
    "## Halibut is a Fish\n",
    "class Halibut(Fish):\n",
    "    pass\n",
    "\n",
    "\n",
    "## rover is-a Dog\n",
    "rover = Dog(\"Rover\")\n",
    "\n",
    "## satan is-a Cat\n",
    "satan = Cat(\"Satan\")\n",
    "\n",
    "## mary is-a Person\n",
    "mary = Person(\"Mary\")\n",
    "\n",
    "## mary has-a pet\n",
    "mary.pet = satan\n",
    "\n",
    "## frank is-a Employee\n",
    "frank = Employee(\"Frank\", 120000)\n",
    "\n",
    "## frank has-a pet\n",
    "frank.pet = rover\n",
    "\n",
    "## flipper is-a Fish\n",
    "flipper = Fish()\n",
    "\n",
    "## crouse is-a Salmon\n",
    "crouse = Salmon()\n",
    "\n",
    "## harry is-a Halibut\n",
    "harry = Halibut()\n",
    "\n",
    "\n"
   ]
  },
  {
   "cell_type": "code",
   "execution_count": 7,
   "metadata": {},
   "outputs": [
    {
     "data": {
      "text/plain": [
       "120000"
      ]
     },
     "execution_count": 7,
     "metadata": {},
     "output_type": "execute_result"
    }
   ],
   "source": [
    "frank.salary"
   ]
  },
  {
   "cell_type": "code",
   "execution_count": 8,
   "metadata": {},
   "outputs": [
    {
     "data": {
      "text/plain": [
       "'Rover'"
      ]
     },
     "execution_count": 8,
     "metadata": {},
     "output_type": "execute_result"
    }
   ],
   "source": [
    "rover.name"
   ]
  },
  {
   "cell_type": "code",
   "execution_count": 13,
   "metadata": {},
   "outputs": [],
   "source": [
    "Bingo = Dog (\"yyyyyyngo\")\n",
    "David = Employee (\"David\", 180000)\n",
    "\n",
    "\n"
   ]
  },
  {
   "cell_type": "code",
   "execution_count": 12,
   "metadata": {},
   "outputs": [
    {
     "data": {
      "text/plain": [
       "'yyyyyyngo'"
      ]
     },
     "execution_count": 12,
     "metadata": {},
     "output_type": "execute_result"
    }
   ],
   "source": [
    "Bingo.name"
   ]
  },
  {
   "cell_type": "code",
   "execution_count": 21,
   "metadata": {},
   "outputs": [],
   "source": [
    "frank.brother = \"abc\""
   ]
  },
  {
   "cell_type": "code",
   "execution_count": 23,
   "metadata": {},
   "outputs": [
    {
     "data": {
      "text/plain": [
       "'abc'"
      ]
     },
     "execution_count": 23,
     "metadata": {},
     "output_type": "execute_result"
    }
   ],
   "source": [
    "frank.brother"
   ]
  },
  {
   "cell_type": "code",
   "execution_count": null,
   "metadata": {},
   "outputs": [],
   "source": []
  }
 ],
 "metadata": {
  "kernelspec": {
   "display_name": "Python 3",
   "language": "python",
   "name": "python3"
  },
  "language_info": {
   "codemirror_mode": {
    "name": "ipython",
    "version": 3
   },
   "file_extension": ".py",
   "mimetype": "text/x-python",
   "name": "python",
   "nbconvert_exporter": "python",
   "pygments_lexer": "ipython3",
   "version": "3.6.5"
  }
 },
 "nbformat": 4,
 "nbformat_minor": 2
}
