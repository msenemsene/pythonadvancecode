{
 "cells": [
  {
   "cell_type": "code",
   "execution_count": 13,
   "metadata": {},
   "outputs": [
    {
     "name": "stdout",
     "output_type": "stream",
     "text": [
      "Error: can't find file or read data. Go to shell and write sudo command \n"
     ]
    }
   ],
   "source": [
    "try:\n",
    "   fh = open(\"/xxx\", \"w\")\n",
    "   fh.write(\"This is my test file for exception handling!! \")\n",
    "except IOError:\n",
    "   print (\"Error: can\\'t find file or read data. Go to shell and write sudo command \")\n",
    "else:\n",
    "   print (\"Written content in the file successfully\")\n",
    "   fh.close()"
   ]
  },
  {
   "cell_type": "code",
   "execution_count": 3,
   "metadata": {},
   "outputs": [
    {
     "name": "stdout",
     "output_type": "stream",
     "text": [
      "'bear game.ipynb'\r\n",
      "'ch42 ex42.ipynb'\r\n",
      "'ch43 ex43.ipynb'\r\n",
      " Day2.ipynb\r\n",
      " Day3.ipynb\r\n",
      "'Day4 ex26.ipynb'\r\n",
      "'DAY4 ex38 appending list with a variable list.ipynb'\r\n",
      "'error handling exception.ipynb'\r\n",
      "'ex39 dictionaries.ipynb'\r\n",
      "'Ex3 Field area.ipynb'\r\n",
      "'ex40 classes.ipynb'\r\n",
      "'ex41 random.ipynb'\r\n",
      "'Ex4 Convert Field to Acres.ipynb'\r\n",
      "'Ex5 Bottle Deposits $ sign and decimal places.ipynb'\r\n",
      "'Ex6 Tax and Tip.ipynb'\r\n",
      "'ex8 Weight total of order.ipynb'\r\n",
      " exitttttttttttt.ipynb\r\n",
      "'guessing game.ipynb'\r\n",
      " LearnPythonTheHardWay\r\n",
      "'Lotery Class.ipynb'\r\n",
      " myfirstjn.ipynb\r\n",
      " notebook.tex\r\n",
      "'Play scene ex .ipynb'\r\n",
      "'question 3.ipynb'\r\n",
      "'scraping from url list.ipynb'\r\n",
      " testfile\r\n",
      " Untitled.ipynb\r\n"
     ]
    }
   ],
   "source": [
    "!ls"
   ]
  },
  {
   "cell_type": "code",
   "execution_count": 4,
   "metadata": {},
   "outputs": [
    {
     "name": "stdout",
     "output_type": "stream",
     "text": [
      "This is my test file for exception handling!!"
     ]
    }
   ],
   "source": [
    "!cat testfile"
   ]
  },
  {
   "cell_type": "code",
   "execution_count": 5,
   "metadata": {},
   "outputs": [
    {
     "name": "stdout",
     "output_type": "stream",
     "text": [
      "/home/m/pycode\r\n"
     ]
    }
   ],
   "source": [
    "!pwd\n"
   ]
  },
  {
   "cell_type": "code",
   "execution_count": 9,
   "metadata": {},
   "outputs": [
    {
     "ename": "PermissionError",
     "evalue": "[Errno 13] Permission denied: '/xxx'",
     "output_type": "error",
     "traceback": [
      "\u001b[0;31m---------------------------------------------------------------------------\u001b[0m",
      "\u001b[0;31mPermissionError\u001b[0m                           Traceback (most recent call last)",
      "\u001b[0;32m<ipython-input-9-a47e326221b2>\u001b[0m in \u001b[0;36m<module>\u001b[0;34m()\u001b[0m\n\u001b[0;32m----> 1\u001b[0;31m \u001b[0mfh\u001b[0m \u001b[0;34m=\u001b[0m \u001b[0mopen\u001b[0m\u001b[0;34m(\u001b[0m\u001b[0;34m\"/xxx\"\u001b[0m\u001b[0;34m,\u001b[0m \u001b[0;34m\"w\"\u001b[0m\u001b[0;34m)\u001b[0m\u001b[0;34m\u001b[0m\u001b[0m\n\u001b[0m",
      "\u001b[0;31mPermissionError\u001b[0m: [Errno 13] Permission denied: '/xxx'"
     ]
    }
   ],
   "source": [
    "   fh = open(\"/xxx\", \"w\")\n"
   ]
  },
  {
   "cell_type": "code",
   "execution_count": null,
   "metadata": {},
   "outputs": [],
   "source": []
  }
 ],
 "metadata": {
  "kernelspec": {
   "display_name": "Python 3",
   "language": "python",
   "name": "python3"
  },
  "language_info": {
   "codemirror_mode": {
    "name": "ipython",
    "version": 3
   },
   "file_extension": ".py",
   "mimetype": "text/x-python",
   "name": "python",
   "nbconvert_exporter": "python",
   "pygments_lexer": "ipython3",
   "version": "3.6.5"
  }
 },
 "nbformat": 4,
 "nbformat_minor": 2
}
