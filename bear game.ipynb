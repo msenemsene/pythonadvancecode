{
 "cells": [
  {
   "cell_type": "code",
   "execution_count": null,
   "metadata": {},
   "outputs": [],
   "source": [
    "from sys import exit\n",
    "\n",
    "\n",
    "def gold_room():\n",
    "    print(\"This room is full of gold. How much do you take?\")\n",
    "\n",
    "    choice = input(\"> \")\n",
    "    if \"0\" in choice or \"1\" in choice:\n",
    "        how_much = int(choice)\n",
    "    else:\n",
    "        dead(\"Man, learn to type a number.\")\n",
    "\n",
    "    if how_much < 50:\n",
    "        print(\"Nice, you're not greedy, you win!\")\n",
    "        exit(0)\n",
    "    else:\n",
    "        dead(\"You greedy bastard!\")\n",
    "\n",
    "\n",
    "def bear_room():\n",
    "    print(\"There is bear here.\")\n",
    "    print(\"The bear has a bunch of honey.\")\n",
    "    print(\"The fat bear is in front of another door.\")\n",
    "    print(\"How are you going to move the bear?\")\n",
    "    bear_moved = False\n",
    "\n",
    "    while True:\n",
    "        choice = input(\"> \")\n",
    "\n",
    "        if choice == \"take honey\":\n",
    "            dead(\"The bear looks at you then slaps your face off.\")\n",
    "        elif choice == \"taunt bear\" and not bear_moved:\n",
    "            print(\"The bear has moved from the door.\")\n",
    "            print(\"You can go through it now.\")\n",
    "            bear_moved = True\n",
    "        elif choice == \"taunt bear\" and bear_moved:\n",
    "            dead(\"The bear gets pissed off and chews your leg off.\")\n",
    "        elif choice == \"open door\" and bear_moved:\n",
    "            gold_room()\n",
    "        else:\n",
    "            print(\"I got no idea what that means.\")\n",
    "\n",
    "\n",
    "def cthulhu_room():\n",
    "    print(\"Here you see the great evil Cthulhu.\")\n",
    "    print(\"He, it, whatever stares at you and you go insane.\")\n",
    "    print(\"Do you flee for your life or eat your head?\")\n",
    "\n",
    "    choice = input(\"> \")\n",
    "\n",
    "    if \"flee\" in choice:\n",
    "        start()\n",
    "    elif \"head\" in choice:\n",
    "        dead(\"Well that was tasty!\")\n",
    "    else:\n",
    "        cthulhu_room()\n",
    "\n",
    "\n",
    "def dead(why):\n",
    "    print(why, \"Good job!\")\n",
    "    exit(0)\n",
    "\n",
    "\n",
    "def start():\n",
    "    print(\"You are in a dark room.\")\n",
    "    print(\"There is a door to your right and left.\")\n",
    "    print(\"Which one do you take?\")\n",
    "\n",
    "    choice = input(\"> \")\n",
    "\n",
    "    if choice == \"left\":\n",
    "        bear_room()\n",
    "    elif choice == \"right\":\n",
    "        cthulhu_room()\n",
    "    else:\n",
    "        dead(\"You stumble around the room until you starve.\")\n",
    "\n",
    "\n",
    "start()\n"
   ]
  },
  {
   "cell_type": "code",
   "execution_count": 1,
   "metadata": {},
   "outputs": [
    {
     "data": {
      "text/plain": [
       "True"
      ]
     },
     "execution_count": 1,
     "metadata": {},
     "output_type": "execute_result"
    }
   ],
   "source": [
    "not False"
   ]
  },
  {
   "cell_type": "code",
   "execution_count": 2,
   "metadata": {},
   "outputs": [
    {
     "data": {
      "text/plain": [
       "False"
      ]
     },
     "execution_count": 2,
     "metadata": {},
     "output_type": "execute_result"
    }
   ],
   "source": [
    "not True"
   ]
  },
  {
   "cell_type": "code",
   "execution_count": 3,
   "metadata": {},
   "outputs": [
    {
     "data": {
      "text/plain": [
       "True"
      ]
     },
     "execution_count": 3,
     "metadata": {},
     "output_type": "execute_result"
    }
   ],
   "source": [
    "True and True\n",
    "\n"
   ]
  },
  {
   "cell_type": "code",
   "execution_count": 9,
   "metadata": {},
   "outputs": [
    {
     "name": "stdout",
     "output_type": "stream",
     "text": [
      "> taunt bear\n",
      "The bear has moved from the door.\n",
      "You can go through it now.\n",
      "> open door\n",
      "The door is open\n"
     ]
    },
    {
     "ename": "SystemExit",
     "evalue": "0",
     "output_type": "error",
     "traceback": [
      "An exception has occurred, use %tb to see the full traceback.\n",
      "\u001b[0;31mSystemExit\u001b[0m\u001b[0;31m:\u001b[0m 0\n"
     ]
    },
    {
     "name": "stderr",
     "output_type": "stream",
     "text": [
      "/home/m/anaconda3/lib/python3.6/site-packages/IPython/core/interactiveshell.py:2971: UserWarning: To exit: use 'exit', 'quit', or Ctrl-D.\n",
      "  warn(\"To exit: use 'exit', 'quit', or Ctrl-D.\", stacklevel=1)\n"
     ]
    }
   ],
   "source": [
    "from sys import exit\n",
    "\n",
    "bear_moved = False\n",
    "\n",
    "while True:\n",
    "    choice = input(\"> \")\n",
    "\n",
    "    if choice == \"take honey\":\n",
    "        print(\"The bear looks at you then slaps your face off.\")\n",
    "    elif choice == \"taunt bear\" and not bear_moved:\n",
    "        print(\"The bear has moved from the door.\")\n",
    "        print(\"You can go through it now.\")\n",
    "        bear_moved = True\n",
    "    elif choice == \"taunt bear\" and bear_moved:\n",
    "        print(\"The bear gets pissed off and chews your leg off.\")\n",
    "    elif choice == \"open door\" and bear_moved:\n",
    "        print (\"The door is open\") \n",
    "        exit(0)\n",
    "    else:\n",
    "        print(\"I got no idea what that means.\")\n"
   ]
  },
  {
   "cell_type": "code",
   "execution_count": 10,
   "metadata": {},
   "outputs": [
    {
     "name": "stdout",
     "output_type": "stream",
     "text": [
      "You are in a dark room.\n",
      "There is a door to your right and left.\n",
      "Which one do you take?\n",
      "> left\n"
     ]
    },
    {
     "ename": "NameError",
     "evalue": "name 'bear_room' is not defined",
     "output_type": "error",
     "traceback": [
      "\u001b[0;31m---------------------------------------------------------------------------\u001b[0m",
      "\u001b[0;31mNameError\u001b[0m                                 Traceback (most recent call last)",
      "\u001b[0;32m<ipython-input-10-66a4654ec2d5>\u001b[0m in \u001b[0;36m<module>\u001b[0;34m()\u001b[0m\n\u001b[1;32m     14\u001b[0m \u001b[0;34m\u001b[0m\u001b[0m\n\u001b[1;32m     15\u001b[0m \u001b[0;34m\u001b[0m\u001b[0m\n\u001b[0;32m---> 16\u001b[0;31m \u001b[0mstart\u001b[0m\u001b[0;34m(\u001b[0m\u001b[0;34m)\u001b[0m\u001b[0;34m\u001b[0m\u001b[0m\n\u001b[0m",
      "\u001b[0;32m<ipython-input-10-66a4654ec2d5>\u001b[0m in \u001b[0;36mstart\u001b[0;34m()\u001b[0m\n\u001b[1;32m      7\u001b[0m \u001b[0;34m\u001b[0m\u001b[0m\n\u001b[1;32m      8\u001b[0m     \u001b[0;32mif\u001b[0m \u001b[0mchoice\u001b[0m \u001b[0;34m==\u001b[0m \u001b[0;34m\"left\"\u001b[0m\u001b[0;34m:\u001b[0m\u001b[0;34m\u001b[0m\u001b[0m\n\u001b[0;32m----> 9\u001b[0;31m         \u001b[0mbear_room\u001b[0m\u001b[0;34m(\u001b[0m\u001b[0;34m)\u001b[0m\u001b[0;34m\u001b[0m\u001b[0m\n\u001b[0m\u001b[1;32m     10\u001b[0m     \u001b[0;32melif\u001b[0m \u001b[0mchoice\u001b[0m \u001b[0;34m==\u001b[0m \u001b[0;34m\"right\"\u001b[0m\u001b[0;34m:\u001b[0m\u001b[0;34m\u001b[0m\u001b[0m\n\u001b[1;32m     11\u001b[0m         \u001b[0mcthulhu_room\u001b[0m\u001b[0;34m(\u001b[0m\u001b[0;34m)\u001b[0m\u001b[0;34m\u001b[0m\u001b[0m\n",
      "\u001b[0;31mNameError\u001b[0m: name 'bear_room' is not defined"
     ]
    }
   ],
   "source": [
    "def start():\n",
    "    print(\"You are in a dark room.\")\n",
    "    print(\"There is a door to your right and left.\")\n",
    "    print(\"Which one do you take?\")\n",
    "\n",
    "    choice = input(\"> \")\n",
    "\n",
    "    if choice == \"left\":\n",
    "        bear_room()\n",
    "    elif choice == \"right\":\n",
    "        cthulhu_room()\n",
    "    else:\n",
    "        dead(\"You stumble around the room until you starve.\")\n",
    "\n",
    "\n",
    "start()"
   ]
  },
  {
   "cell_type": "code",
   "execution_count": null,
   "metadata": {},
   "outputs": [
    {
     "name": "stdout",
     "output_type": "stream",
     "text": [
      "There is bear here.\n",
      "The bear has a bunch of honey.\n",
      "The fat bear is in front of another door.\n",
      "How are you going to move the bear?\n",
      "> take honey\n",
      "The bear looks at you then slaps your face off.\n",
      "> taunt bear\n",
      "The bear gets pissed off and chews your leg off.\n"
     ]
    }
   ],
   "source": [
    "def bear_room():\n",
    "    print(\"There is bear here.\")\n",
    "    print(\"The bear has a bunch of honey.\")\n",
    "    print(\"The fat bear is in front of another door.\")\n",
    "    print(\"How are you going to move the bear?\")\n",
    "    bear_moved = True\n",
    "\n",
    "    while True:\n",
    "        choice = input(\"> \")\n",
    "\n",
    "        if choice == \"take honey\":\n",
    "            print(\"The bear looks at you then slaps your face off.\")\n",
    "        elif choice == \"taunt bear\" and not bear_moved:\n",
    "            print(\"The bear has moved from the door.\")\n",
    "            print(\"You can go through it now.\")\n",
    "            bear_moved = True\n",
    "        elif choice == \"taunt bear\" and bear_moved:\n",
    "            print(\"The bear gets pissed off and chews your leg off.\")\n",
    "        elif choice == \"open door\" and bear_moved:\n",
    "            gold_room()\n",
    "        else:\n",
    "            print(\"I got no idea what that means.\")\n",
    "bear_room()"
   ]
  },
  {
   "cell_type": "code",
   "execution_count": null,
   "metadata": {},
   "outputs": [],
   "source": []
  }
 ],
 "metadata": {
  "kernelspec": {
   "display_name": "Python 3",
   "language": "python",
   "name": "python3"
  },
  "language_info": {
   "codemirror_mode": {
    "name": "ipython",
    "version": 3
   },
   "file_extension": ".py",
   "mimetype": "text/x-python",
   "name": "python",
   "nbconvert_exporter": "python",
   "pygments_lexer": "ipython3",
   "version": "3.6.5"
  }
 },
 "nbformat": 4,
 "nbformat_minor": 2
}
