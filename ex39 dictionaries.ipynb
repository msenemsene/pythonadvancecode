{
 "cells": [
  {
   "cell_type": "code",
   "execution_count": null,
   "metadata": {},
   "outputs": [],
   "source": [
    "# create a mapping of state to abbreviation\n",
    "states = {\n",
    "    'Oregon': 'OR',\n",
    "    'Florida': 'FL',\n",
    "    'California': 'CA',\n",
    "    'New York': 'NY',\n",
    "    'Michigan': 'MI'\n",
    "}\n",
    "\n",
    "# create a basic set of states and some cities in them\n",
    "cities = {'CA': 'San Francisco',\n",
    "          'MI': 'Detroit',\n",
    "          'FL': 'Jacksonville'}\n",
    "\n",
    "# add some more cities\n",
    "cities['NY'] = 'New York'\n",
    "cities['OR'] = 'Portland'\n",
    "\n",
    "# print out some cities\n",
    "print('-' * 10)\n",
    "print(\"NY State has: \", cities['NY'])\n",
    "print(\"OR State has: \", cities['OR'])\n",
    "\n",
    "# print some states\n",
    "print('-' * 10)\n",
    "print(\"Michigan's abbreviation is: \", states[\"Michigan\"])\n",
    "print(\"Florida's abbreviation is: \", states['Florida'])\n",
    "\n",
    "# do it by using the state then cities dict\n",
    "print('-' * 10)\n",
    "print(\"Michigan has: \", cities[states['Michigan']])\n",
    "print(\"Florida has: \", cities[states['Florida']])\n",
    "\n",
    "# print every state abbreviation\n",
    "print('-' * 10)\n",
    "for state, abbrev in states.items():\n",
    "    print(f\"{state} is abbreviated {abbrev}\")\n",
    "\n",
    "# print every city in state\n",
    "print('-' * 10)\n",
    "for abbrev, city in cities.items():\n",
    "    print(f\"{abbrev} has the city {city}\")\n",
    "\n",
    "# now do both at the same time\n",
    "print('-' * 10)\n",
    "for state, abbrev in states.items():\n",
    "    print(f\"{state} state is abbreviated {abbrev}\")\n",
    "    print(f\"and has city {cities[abbrev]}\")\n",
    "\n",
    "print('-' * 10)\n",
    "# safely get an abbreviation by state that might not be there\n",
    "state = states.get('Texas')\n",
    "\n",
    "if not state:\n",
    "    print(\"Sorry, no Texas.\")\n",
    "\n",
    "# get a city with a default values\n",
    "city = cities.get('TX', 'Does not Exist')\n",
    "print(f\"The city for the state 'TX' is: {city}\")"
   ]
  },
  {
   "cell_type": "code",
   "execution_count": 1,
   "metadata": {},
   "outputs": [],
   "source": [
    "# create a mapping of state to abbreviation\n",
    "states = {\n",
    "    'Oregon': 'OR',\n",
    "    'Florida': 'FL',\n",
    "    'California': 'CA',\n",
    "    'New York': 'NY',\n",
    "    'Michigan': 'MI'\n",
    "}"
   ]
  },
  {
   "cell_type": "code",
   "execution_count": 2,
   "metadata": {},
   "outputs": [
    {
     "name": "stdout",
     "output_type": "stream",
     "text": [
      "{'Oregon': 'OR', 'Florida': 'FL', 'California': 'CA', 'New York': 'NY', 'Michigan': 'MI'}\n"
     ]
    }
   ],
   "source": [
    "print (states)"
   ]
  },
  {
   "cell_type": "code",
   "execution_count": 4,
   "metadata": {},
   "outputs": [
    {
     "data": {
      "text/plain": [
       "dict"
      ]
     },
     "execution_count": 4,
     "metadata": {},
     "output_type": "execute_result"
    }
   ],
   "source": [
    "type (states)"
   ]
  },
  {
   "cell_type": "code",
   "execution_count": 5,
   "metadata": {},
   "outputs": [
    {
     "data": {
      "text/plain": [
       "'OR'"
      ]
     },
     "execution_count": 5,
     "metadata": {},
     "output_type": "execute_result"
    }
   ],
   "source": [
    "states[\"Oregon\"]"
   ]
  },
  {
   "cell_type": "code",
   "execution_count": 6,
   "metadata": {},
   "outputs": [],
   "source": [
    "# create a basic set of states and some cities in them\n",
    "cities = {'CA': 'San Francisco',\n",
    "          'MI': 'Detroit',\n",
    "          'FL': 'Jacksonville'}\n",
    "\n",
    "# add some more cities\n",
    "cities['NY'] = 'New York'\n",
    "cities['OR'] = 'Portland'"
   ]
  },
  {
   "cell_type": "code",
   "execution_count": 8,
   "metadata": {},
   "outputs": [
    {
     "name": "stdout",
     "output_type": "stream",
     "text": [
      "{'CA': 'San Francisco', 'MI': 'Detroit', 'FL': 'Jacksonville', 'NY': 'New York', 'OR': 'Portland'}\n"
     ]
    },
    {
     "data": {
      "text/plain": [
       "dict"
      ]
     },
     "execution_count": 8,
     "metadata": {},
     "output_type": "execute_result"
    }
   ],
   "source": [
    "print (cities)\n",
    "type  (cities)"
   ]
  },
  {
   "cell_type": "code",
   "execution_count": 13,
   "metadata": {},
   "outputs": [
    {
     "data": {
      "text/plain": [
       "'Detroit'"
      ]
     },
     "execution_count": 13,
     "metadata": {},
     "output_type": "execute_result"
    }
   ],
   "source": [
    "cities [\"MI\"]"
   ]
  },
  {
   "cell_type": "code",
   "execution_count": 14,
   "metadata": {},
   "outputs": [
    {
     "name": "stdout",
     "output_type": "stream",
     "text": [
      "----------\n",
      "NY State has:  New York\n",
      "OR State has:  Portland\n"
     ]
    }
   ],
   "source": [
    "# print out some cities\n",
    "print('-' * 10)\n",
    "print(\"NY State has: \", cities['NY'])\n",
    "print(\"OR State has: \", cities['OR'])"
   ]
  },
  {
   "cell_type": "code",
   "execution_count": 16,
   "metadata": {},
   "outputs": [
    {
     "name": "stdout",
     "output_type": "stream",
     "text": [
      "aaaaaaaaaa\n"
     ]
    }
   ],
   "source": [
    "print('a' * 10)"
   ]
  },
  {
   "cell_type": "code",
   "execution_count": 17,
   "metadata": {},
   "outputs": [
    {
     "name": "stdout",
     "output_type": "stream",
     "text": [
      "----------\n",
      "Oregon is abbreviated OR\n",
      "Florida is abbreviated FL\n",
      "California is abbreviated CA\n",
      "New York is abbreviated NY\n",
      "Michigan is abbreviated MI\n"
     ]
    }
   ],
   "source": [
    "# print every state abbreviation\n",
    "print('-' * 10)\n",
    "for state, abbrev in states.items():\n",
    "    print(f\"{state} is abbreviated {abbrev}\")\n"
   ]
  },
  {
   "cell_type": "code",
   "execution_count": 18,
   "metadata": {},
   "outputs": [
    {
     "data": {
      "text/plain": [
       "{'Oregon': 'OR',\n",
       " 'Florida': 'FL',\n",
       " 'California': 'CA',\n",
       " 'New York': 'NY',\n",
       " 'Michigan': 'MI'}"
      ]
     },
     "execution_count": 18,
     "metadata": {},
     "output_type": "execute_result"
    }
   ],
   "source": [
    "states"
   ]
  },
  {
   "cell_type": "code",
   "execution_count": 25,
   "metadata": {},
   "outputs": [
    {
     "name": "stdout",
     "output_type": "stream",
     "text": [
      "Oregon is abbreviated to OR\n",
      "Florida is abbreviated to FL\n",
      "California is abbreviated to CA\n",
      "New York is abbreviated to NY\n",
      "Michigan is abbreviated to MI\n"
     ]
    }
   ],
   "source": [
    "for x,y in states.items():\n",
    "    print(f\"{x} is abbreviated to {y}\")"
   ]
  },
  {
   "cell_type": "code",
   "execution_count": 20,
   "metadata": {},
   "outputs": [
    {
     "ename": "NameError",
     "evalue": "name 'items' is not defined",
     "output_type": "error",
     "traceback": [
      "\u001b[0;31m---------------------------------------------------------------------------\u001b[0m",
      "\u001b[0;31mNameError\u001b[0m                                 Traceback (most recent call last)",
      "\u001b[0;32m<ipython-input-20-92fc115b3de9>\u001b[0m in \u001b[0;36m<module>\u001b[0;34m()\u001b[0m\n\u001b[0;32m----> 1\u001b[0;31m \u001b[0mitems\u001b[0m\u001b[0;34m\u001b[0m\u001b[0m\n\u001b[0m",
      "\u001b[0;31mNameError\u001b[0m: name 'items' is not defined"
     ]
    }
   ],
   "source": [
    "items"
   ]
  },
  {
   "cell_type": "code",
   "execution_count": null,
   "metadata": {},
   "outputs": [],
   "source": []
  }
 ],
 "metadata": {
  "kernelspec": {
   "display_name": "Python 3",
   "language": "python",
   "name": "python3"
  },
  "language_info": {
   "codemirror_mode": {
    "name": "ipython",
    "version": 3
   },
   "file_extension": ".py",
   "mimetype": "text/x-python",
   "name": "python",
   "nbconvert_exporter": "python",
   "pygments_lexer": "ipython3",
   "version": "3.6.5"
  }
 },
 "nbformat": 4,
 "nbformat_minor": 2
}
